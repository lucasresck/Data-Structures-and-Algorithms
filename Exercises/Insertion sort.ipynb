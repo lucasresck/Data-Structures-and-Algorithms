{
 "cells": [
  {
   "cell_type": "code",
   "execution_count": 3,
   "metadata": {},
   "outputs": [],
   "source": [
    "def insertion_sort(lista):\n",
    "    for n in range(len(lista)): #Pra cada elemento da lista\n",
    "        a = lista[n] #Salva-se o seu valor\n",
    "        j = n - 1\n",
    "        while j >= 0 and lista[j] > a: #Volta\n",
    "            lista[j+1] = lista[j] #Desloca os elementos enquanto ele é maior do que o elemento inicial\n",
    "            j -= 1\n",
    "        lista[j + 1] = a #Realoca o elemento inicial\n",
    "        print(lista)\n",
    "    return lista               "
   ]
  },
  {
   "cell_type": "code",
   "execution_count": 4,
   "metadata": {},
   "outputs": [
    {
     "name": "stdout",
     "output_type": "stream",
     "text": [
      "[1, 5, 2, 8, 6]\n",
      "[1, 5, 2, 8, 6]\n",
      "[1, 2, 5, 8, 6]\n",
      "[1, 2, 5, 8, 6]\n",
      "[1, 2, 5, 6, 8]\n"
     ]
    },
    {
     "data": {
      "text/plain": [
       "[1, 2, 5, 6, 8]"
      ]
     },
     "execution_count": 4,
     "metadata": {},
     "output_type": "execute_result"
    }
   ],
   "source": [
    "insertion_sort([1, 5, 2, 8, 6])"
   ]
  },
  {
   "cell_type": "code",
   "execution_count": null,
   "metadata": {},
   "outputs": [],
   "source": []
  }
 ],
 "metadata": {
  "kernelspec": {
   "display_name": "Python 3",
   "language": "python",
   "name": "python3"
  },
  "language_info": {
   "codemirror_mode": {
    "name": "ipython",
    "version": 3
   },
   "file_extension": ".py",
   "mimetype": "text/x-python",
   "name": "python",
   "nbconvert_exporter": "python",
   "pygments_lexer": "ipython3",
   "version": "3.5.2"
  }
 },
 "nbformat": 4,
 "nbformat_minor": 2
}

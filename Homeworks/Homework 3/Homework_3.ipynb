{
  "nbformat": 4,
  "nbformat_minor": 0,
  "metadata": {
    "colab": {
      "name": "Homework 3.ipynb",
      "version": "0.3.2",
      "provenance": [],
      "include_colab_link": true
    },
    "kernelspec": {
      "name": "python3",
      "display_name": "Python 3"
    }
  },
  "cells": [
    {
      "cell_type": "markdown",
      "metadata": {
        "id": "view-in-github",
        "colab_type": "text"
      },
      "source": [
        "<a href=\"https://colab.research.google.com/github/lucasresck/Data_Structures_and_Algorithms/blob/master/Homeworks/Homework%203/Homework_3.ipynb\" target=\"_parent\"><img src=\"https://colab.research.google.com/assets/colab-badge.svg\" alt=\"Open In Colab\"/></a>"
      ]
    },
    {
      "metadata": {
        "id": "nCBLROkNPtT9",
        "colab_type": "code",
        "colab": {}
      },
      "cell_type": "code",
      "source": [
        "import numpy as np\n",
        "\n",
        "def get_bucket(key, k, num_buckets):\n",
        "    kperbucket = np.ceil(k / num_buckets)\n",
        "    return int(np.floor(key / kperbucket))\n",
        "\n",
        "def bucket_sort(A, k, num_buckets):\n",
        "    buckets = [[] for i in range(num_buckets)]\n",
        "    for (key, value) in A:\n",
        "        buckets[get_bucket(key, k, num_buckets)].append((key, value))\n",
        "    if num_buckets < k:\n",
        "        for bucket in range(num_buckets):\n",
        "            buckets[bucket] = sorted(buckets[bucket], key = lambda x: x[0])\n",
        "    result = []\n",
        "    for bucket in buckets:\n",
        "        result += bucket\n",
        "    result = [element[1] for element in result]\n",
        "    return result"
      ],
      "execution_count": 0,
      "outputs": []
    },
    {
      "metadata": {
        "id": "qCUZHf_nXllu",
        "colab_type": "code",
        "colab": {}
      },
      "cell_type": "code",
      "source": [
        "def radix_sort(A, d, k):\n",
        "    for j in range(d):\n",
        "        A_j = []\n",
        "        for a in A:\n",
        "            key = int(np.floor(a * 10**(-j))) % 10\n",
        "            A_j.append((key, a))\n",
        "        A = bucket_sort(A_j, k, k)\n",
        "    return A"
      ],
      "execution_count": 0,
      "outputs": []
    },
    {
      "metadata": {
        "id": "q1pCrSE8G0kQ",
        "colab_type": "code",
        "colab": {}
      },
      "cell_type": "code",
      "source": [
        "def stable_counting_sort(A, k):\n",
        "    counts = [0] * k\n",
        "    for a in A:\n",
        "        counts[a] += 1\n",
        "    for a in range(1, len(counts)):\n",
        "        counts[a] += counts[a - 1]\n",
        "    result = [0] * len(A);\n",
        "    for a in A[::-1]:\n",
        "        result[counts[a] - 1] = a;\n",
        "        counts[a] -= 1\n",
        "    return result"
      ],
      "execution_count": 0,
      "outputs": []
    },
    {
      "metadata": {
        "id": "Qvr6e7bLQGdy",
        "colab_type": "code",
        "colab": {}
      },
      "cell_type": "code",
      "source": [
        "def in_place_counting_sort(A, k):\n",
        "    counts = [0] * k\n",
        "    for (a, b) in A:\n",
        "        counts[a] += 1\n",
        "    for a in range(1, len(counts)):\n",
        "        counts[a] += counts[a - 1]\n",
        "    i = len(A) - 1\n",
        "    print(A)\n",
        "    while i >= 0:\n",
        "        if counts[A[i][0]] - 1 == i:\n",
        "            counts[A[i][0]] -= 1\n",
        "            i -= 1\n",
        "        else:\n",
        "            aux = A[counts[A[i][0]] - 1]\n",
        "            A[counts[A[i][0]] - 1] = A[i]  \n",
        "            j = 2\n",
        "            while A[i][0] == aux[0]:  \n",
        "                A[i] = aux   \n",
        "                aux = A[counts[A[i][0]] - j]\n",
        "                A[counts[A[i][0]] - j] = A[i]\n",
        "                j+=1\n",
        "            A[i] = aux\n",
        "        print(A)\n",
        "    return A"
      ],
      "execution_count": 0,
      "outputs": []
    },
    {
      "metadata": {
        "id": "ETd0q7FXQpfC",
        "colab_type": "code",
        "colab": {}
      },
      "cell_type": "code",
      "source": [
        "A = [(1, 1), (22, 1), (10, 1), (21, 1), (22, 2), (22, 3), (22, 4), (22, 5), (34, 1)]"
      ],
      "execution_count": 0,
      "outputs": []
    },
    {
      "metadata": {
        "id": "vreg51YQQwNe",
        "colab_type": "code",
        "outputId": "02f7c1d1-d8dd-418f-a03e-ce1177787b05",
        "colab": {
          "base_uri": "https://localhost:8080/",
          "height": 374
        }
      },
      "cell_type": "code",
      "source": [
        "in_place_counting_sort(A, 35)"
      ],
      "execution_count": 128,
      "outputs": [
        {
          "output_type": "stream",
          "text": [
            "[(1, 1), (22, 1), (10, 1), (21, 1), (22, 2), (22, 3), (22, 4), (22, 5), (34, 1)]\n",
            "[(1, 1), (22, 1), (10, 1), (21, 1), (22, 2), (22, 3), (22, 4), (22, 5), (34, 1)]\n",
            "[(1, 1), (22, 1), (10, 1), (21, 1), (22, 2), (22, 3), (22, 4), (22, 5), (34, 1)]\n",
            "[(1, 1), (22, 1), (10, 1), (21, 1), (22, 2), (22, 3), (22, 4), (22, 5), (34, 1)]\n",
            "[(1, 1), (22, 1), (10, 1), (21, 1), (22, 2), (22, 3), (22, 4), (22, 5), (34, 1)]\n",
            "[(1, 1), (22, 1), (10, 1), (21, 1), (22, 2), (22, 3), (22, 4), (22, 5), (34, 1)]\n",
            "[(1, 1), (22, 1), (21, 1), (10, 1), (22, 2), (22, 3), (22, 4), (22, 5), (34, 1)]\n",
            "[(1, 1), (10, 1), (21, 1), (22, 1), (22, 2), (22, 3), (22, 4), (22, 5), (34, 1)]\n",
            "[(1, 1), (10, 1), (21, 1), (22, 1), (22, 2), (22, 3), (22, 4), (22, 5), (34, 1)]\n",
            "[(1, 1), (10, 1), (21, 1), (22, 1), (22, 2), (22, 3), (22, 4), (22, 5), (34, 1)]\n",
            "[(1, 1), (10, 1), (21, 1), (22, 1), (22, 2), (22, 3), (22, 4), (22, 5), (34, 1)]\n",
            "[(1, 1), (10, 1), (21, 1), (22, 1), (22, 2), (22, 3), (22, 4), (22, 5), (34, 1)]\n"
          ],
          "name": "stdout"
        },
        {
          "output_type": "execute_result",
          "data": {
            "text/plain": [
              "[(1, 1),\n",
              " (10, 1),\n",
              " (21, 1),\n",
              " (22, 1),\n",
              " (22, 2),\n",
              " (22, 3),\n",
              " (22, 4),\n",
              " (22, 5),\n",
              " (34, 1)]"
            ]
          },
          "metadata": {
            "tags": []
          },
          "execution_count": 128
        }
      ]
    },
    {
      "metadata": {
        "id": "xUeQxupM1cAb",
        "colab_type": "code",
        "colab": {}
      },
      "cell_type": "code",
      "source": [
        ""
      ],
      "execution_count": 0,
      "outputs": []
    }
  ]
}
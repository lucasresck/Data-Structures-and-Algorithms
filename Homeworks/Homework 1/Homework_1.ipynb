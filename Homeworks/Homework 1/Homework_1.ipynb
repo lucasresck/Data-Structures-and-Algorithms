{
  "nbformat": 4,
  "nbformat_minor": 0,
  "metadata": {
    "colab": {
      "name": "Homework 1.ipynb",
      "version": "0.3.2",
      "provenance": [],
      "collapsed_sections": [],
      "include_colab_link": true
    },
    "kernelspec": {
      "name": "python3",
      "display_name": "Python 3"
    }
  },
  "cells": [
    {
      "cell_type": "markdown",
      "metadata": {
        "id": "view-in-github",
        "colab_type": "text"
      },
      "source": [
        "<a href=\"https://colab.research.google.com/github/lucasresck/Data_Structures_and_Algorithms/blob/master/Homeworks/Homework%201/Homework_1.ipynb\" target=\"_parent\"><img src=\"https://colab.research.google.com/assets/colab-badge.svg\" alt=\"Open In Colab\"/></a>"
      ]
    },
    {
      "metadata": {
        "id": "58q2FPvshsHa",
        "colab_type": "text"
      },
      "cell_type": "markdown",
      "source": [
        "import numpy as np\n",
        "\n",
        "\n",
        "def insert_sort(a):\n",
        "    pass\n",
        "\n",
        "\n",
        "def merge_sort(a):\n",
        "    pass\n",
        "\n",
        "\n",
        "def is_sorted(a):\n",
        "    return false\n",
        "\n",
        "\n",
        "def main():\n",
        "    ns = np.linspace(10000, 100000, 10)\n",
        "\n",
        "    for n in ns:\n",
        "        # create and fill an array with random numbers\n",
        "        # a = ...\n",
        "\n",
        "        # call insert_sort and  calculate the time\n",
        "        sorted_a = insert_sort(a)\n",
        "        if not is_sorted(sorted_a):\n",
        "            print(\"ERROR\")\n",
        "\n",
        "        # call merge_sort and  calculate the time\n",
        "        sorted_a = merge_sort(a)\n",
        "        if not is_sorted(sorted_a):\n",
        "            print(\"ERROR\")\n",
        "\n",
        "        print(\"%d %f %f\" % (n, t1, t2))\n",
        "\n",
        "\n",
        "if __name__ == \"__main__\":\n",
        "    main()"
      ]
    },
    {
      "metadata": {
        "id": "DGpZyOEQHPCm",
        "colab_type": "text"
      },
      "cell_type": "markdown",
      "source": [
        "# Random order"
      ]
    },
    {
      "metadata": {
        "id": "BsXTnORUijjo",
        "colab_type": "code",
        "outputId": "01d815b1-68dd-4b9e-ae38-eaad3437d039",
        "colab": {
          "base_uri": "https://localhost:8080/",
          "height": 187
        }
      },
      "cell_type": "code",
      "source": [
        "import numpy as np\n",
        "import random as rd\n",
        "import time as tm\n",
        "\n",
        "\n",
        "def insert_sort(a):\n",
        "    for i in range(len(a)):\n",
        "        cur = a[i]\n",
        "        j = i - 1\n",
        "        while a[j] > cur and j >= 0:\n",
        "            a[j + 1] = a[j]\n",
        "            j -= 1\n",
        "        a[j + 1] = cur\n",
        "    return a\n",
        "\n",
        "def merge(L, R):\n",
        "    a = np.array([])\n",
        "    while len(L) != 0 and len(R) != 0:\n",
        "        if L[0] < R[0]:\n",
        "            a = np.append(a, L[0])\n",
        "            L = np.delete(L, 0)\n",
        "        else:\n",
        "            a = np.append(a, R[0])\n",
        "            R = np.delete(R, 0)\n",
        "    return np.concatenate((a, L, R))\n",
        "            \n",
        "        \n",
        "\n",
        "def merge_sort(a):\n",
        "    if len(a) == 1:\n",
        "        return a\n",
        "    half = int(np.floor(len(a) / 2))\n",
        "    L = a[:half]\n",
        "    R = a[half:]\n",
        "    L = merge_sort(L)\n",
        "    R = merge_sort(R)\n",
        "    return merge(L, R)\n",
        "\n",
        "\n",
        "def is_sorted(a):\n",
        "    for i in range(len(a) - 1):\n",
        "        if a[i] > a[i + 1]:\n",
        "            return False\n",
        "    return True\n",
        "\n",
        "\n",
        "def main():\n",
        "    ns = np.linspace(10000, 100000, 10)\n",
        "    t1 = np.array([])\n",
        "    t2 = np.array([])\n",
        "    for n in ns:\n",
        "        # create and fill an array with random numbers\n",
        "        a = np.random.rand(int(n))\n",
        "\n",
        "        # call insert_sort and calculate the time\n",
        "        b = np.copy(a)\n",
        "        start = tm.time()\n",
        "        sorted_a = insert_sort(b)\n",
        "        end = tm.time() - start\n",
        "        t1 = np.append(t1, end)\n",
        "        if not is_sorted(sorted_a):\n",
        "            print(\"ERROR\")\n",
        "\n",
        "        # call merge_sort and calculate the time\n",
        "        b = np.copy(a)\n",
        "        start = tm.time()\n",
        "        sorted_a = merge_sort(b)\n",
        "        end = tm.time() - start\n",
        "        t2 = np.append(t2, end)\n",
        "        if not is_sorted(sorted_a):\n",
        "            print(\"ERROR\")\n",
        "\n",
        "        print(\"%d %f %f\" % (n, t1[-1], t2[-1]))\n",
        "        \n",
        "    return ns, t1, t2\n",
        "\n",
        "if __name__ == \"__main__\":\n",
        "    ns, t1, t2 = main()"
      ],
      "execution_count": 0,
      "outputs": [
        {
          "output_type": "stream",
          "text": [
            "10000 9.622511 1.550573\n",
            "20000 38.214564 3.431472\n",
            "30000 86.280730 5.484799\n",
            "40000 152.981890 7.912122\n",
            "50000 238.458576 10.659112\n",
            "60000 345.378877 13.719081\n",
            "70000 466.922335 17.232027\n",
            "80000 613.074121 21.571216\n",
            "90000 772.791535 26.336086\n",
            "100000 960.141903 31.212514\n"
          ],
          "name": "stdout"
        }
      ]
    },
    {
      "metadata": {
        "id": "cV8YM6Id2WmH",
        "colab_type": "code",
        "outputId": "ceb67d4d-390e-4d40-da07-6a076dfa40f9",
        "colab": {
          "base_uri": "https://localhost:8080/",
          "height": 363
        }
      },
      "cell_type": "code",
      "source": [
        "import matplotlib.pyplot as plt\n",
        "\n",
        "plt.plot(ns, t1)\n",
        "plt.plot(ns, t2)\n",
        "plt.xlabel('Number of elements')\n",
        "plt.ylabel('Time (s)')\n",
        "plt.legend((\"Insertion sort\", \"Merge sort\"), loc = \"upper left\")\n",
        "plt.show()"
      ],
      "execution_count": 0,
      "outputs": [
        {
          "output_type": "display_data",
          "data": {
            "image/png": "[encoded data removed]",
            "text/plain": [
              "<Figure size 576x396 with 1 Axes>"
            ]
          },
          "metadata": {
            "tags": []
          }
        }
      ]
    },
    {
      "metadata": {
        "id": "4n5m_HB2HZyF",
        "colab_type": "text"
      },
      "cell_type": "markdown",
      "source": [
        "# Ascending order"
      ]
    },
    {
      "metadata": {
        "id": "Kbn3tNTgHe9x",
        "colab_type": "code",
        "outputId": "5d729147-940c-45d2-d4c1-0cd4bb6d14fe",
        "colab": {
          "base_uri": "https://localhost:8080/",
          "height": 187
        }
      },
      "cell_type": "code",
      "source": [
        "t1 = np.array([])\n",
        "t2 = np.array([])\n",
        "for n in ns:\n",
        "    # create and fill an array with random numbers\n",
        "    a = np.random.rand(int(n))\n",
        "    # order the array\n",
        "    a = np.sort(a)\n",
        "\n",
        "    # call insert_sort and calculate the time\n",
        "    b = np.copy(a)\n",
        "    start = tm.time()\n",
        "    sorted_a = insert_sort(b)\n",
        "    end = tm.time() - start\n",
        "    t1 = np.append(t1, end)\n",
        "    if not is_sorted(sorted_a):\n",
        "        print(\"ERROR\")\n",
        "\n",
        "    # call merge_sort and calculate the time\n",
        "    b = np.copy(a)\n",
        "    start = tm.time()\n",
        "    sorted_a = merge_sort(b)\n",
        "    end = tm.time() - start\n",
        "    t2 = np.append(t2, end)\n",
        "    if not is_sorted(sorted_a):\n",
        "        print(\"ERROR\")\n",
        "\n",
        "    print(\"%d %f %f\" % (n, t1[-1], t2[-1]))"
      ],
      "execution_count": 0,
      "outputs": [
        {
          "output_type": "stream",
          "text": [
            "10000 0.005992 0.865083\n",
            "20000 0.008449 1.873803\n",
            "30000 0.012392 2.985792\n",
            "40000 0.017224 4.098979\n",
            "50000 0.020320 5.309783\n",
            "60000 0.025456 6.557836\n",
            "70000 0.028455 7.996136\n",
            "80000 0.035753 9.628275\n",
            "90000 0.037207 11.860289\n",
            "100000 0.043493 13.434011\n"
          ],
          "name": "stdout"
        }
      ]
    },
    {
      "metadata": {
        "id": "lTZg5KyUIXrM",
        "colab_type": "code",
        "outputId": "573b580a-af2e-487f-9a63-8bc14e9bb28b",
        "colab": {
          "base_uri": "https://localhost:8080/",
          "height": 363
        }
      },
      "cell_type": "code",
      "source": [
        "plt.plot(ns, t1)\n",
        "plt.plot(ns, t2)\n",
        "plt.xlabel('Number of elements')\n",
        "plt.ylabel('Time (s)')\n",
        "plt.legend((\"Insertion sort\", \"Merge sort\"), loc = \"upper left\")\n",
        "plt.show()"
      ],
      "execution_count": 0,
      "outputs": [
        {
          "output_type": "display_data",
          "data": {
            "image/png": "[encoded data removed]",
            "text/plain": [
              "<Figure size 576x396 with 1 Axes>"
            ]
          },
          "metadata": {
            "tags": []
          }
        }
      ]
    },
    {
      "metadata": {
        "id": "ZVFRUoymJdDF",
        "colab_type": "text"
      },
      "cell_type": "markdown",
      "source": [
        "# Descending order"
      ]
    },
    {
      "metadata": {
        "id": "1Jmkf_3GJaOX",
        "colab_type": "code",
        "outputId": "0f857dba-b8e6-4942-f024-ee2904edd8cf",
        "colab": {
          "base_uri": "https://localhost:8080/",
          "height": 187
        }
      },
      "cell_type": "code",
      "source": [
        "t1 = np.array([])\n",
        "t2 = np.array([])\n",
        "for n in ns:\n",
        "    # create and fill an array with random numbers\n",
        "    a = np.random.rand(int(n))\n",
        "    # order the array in descending order\n",
        "    a = np.sort(a)[::-1]\n",
        "\n",
        "    # call insert_sort and calculate the time\n",
        "    b = np.copy(a)\n",
        "    start = tm.time()\n",
        "    sorted_a = insert_sort(b)\n",
        "    end = tm.time() - start\n",
        "    t1 = np.append(t1, end)\n",
        "    if not is_sorted(sorted_a):\n",
        "        print(\"ERROR\")\n",
        "\n",
        "    # call merge_sort and calculate the time\n",
        "    b = np.copy(a)\n",
        "    start = tm.time()\n",
        "    sorted_a = merge_sort(b)\n",
        "    end = tm.time() - start\n",
        "    t2 = np.append(t2, end)\n",
        "    if not is_sorted(sorted_a):\n",
        "        print(\"ERROR\")\n",
        "\n",
        "    print(\"%d %f %f\" % (n, t1[-1], t2[-1]))"
      ],
      "execution_count": 0,
      "outputs": [
        {
          "output_type": "stream",
          "text": [
            "10000 20.815015 0.920294\n",
            "20000 83.859105 1.994361\n",
            "30000 189.739703 3.137316\n",
            "40000 335.194088 4.316915\n",
            "50000 524.522480 5.530483\n",
            "60000 760.556700 6.843240\n",
            "70000 1031.063897 8.273410\n",
            "80000 1366.574220 10.261223\n",
            "90000 1704.917797 11.990015\n",
            "100000 2122.337445 13.766939\n"
          ],
          "name": "stdout"
        }
      ]
    },
    {
      "metadata": {
        "id": "4L_Mjnvwhf2O",
        "colab_type": "code",
        "outputId": "3ece79da-8697-4073-a56b-87d2da4af475",
        "colab": {
          "base_uri": "https://localhost:8080/",
          "height": 361
        }
      },
      "cell_type": "code",
      "source": [
        "plt.plot(ns, t1)\n",
        "plt.plot(ns, t2)\n",
        "plt.xlabel('Number of elements')\n",
        "plt.ylabel('Time (s)')\n",
        "plt.legend((\"Insertion sort\", \"Merge sort\"), loc = \"upper left\")\n",
        "plt.show()"
      ],
      "execution_count": 0,
      "outputs": [
        {
          "output_type": "display_data",
          "data": {
            "image/png": "[encoded data removed]",
            "text/plain": [
              "<Figure size 576x396 with 1 Axes>"
            ]
          },
          "metadata": {
            "tags": []
          }
        }
      ]
    },
    {
      "metadata": {
        "id": "A6tcmQQ5qMuv",
        "colab_type": "code",
        "colab": {}
      },
      "cell_type": "code",
      "source": [
        ""
      ],
      "execution_count": 0,
      "outputs": []
    }
  ]
}
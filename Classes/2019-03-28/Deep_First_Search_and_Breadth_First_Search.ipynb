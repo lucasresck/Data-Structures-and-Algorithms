{
  "nbformat": 4,
  "nbformat_minor": 0,
  "metadata": {
    "colab": {
      "name": "Deep-First Search and Breadth-First Search.ipynb",
      "version": "0.3.2",
      "provenance": [],
      "include_colab_link": true
    },
    "kernelspec": {
      "name": "python3",
      "display_name": "Python 3"
    }
  },
  "cells": [
    {
      "cell_type": "markdown",
      "metadata": {
        "id": "view-in-github",
        "colab_type": "text"
      },
      "source": [
        "<a href=\"https://colab.research.google.com/github/lucasresck/Data_Structures_and_Algorithms/blob/master/Classes/03-28-2019/Deep_First_Search_and_Breadth_First_Search.ipynb\" target=\"_parent\"><img src=\"https://colab.research.google.com/assets/colab-badge.svg\" alt=\"Open In Colab\"/></a>"
      ]
    },
    {
      "metadata": {
        "id": "hakd7BhEwZU6",
        "colab_type": "code",
        "colab": {}
      },
      "cell_type": "code",
      "source": [
        "graph = {0:{1, 2, 3}, 1:{0}, 2:{0, 4, 5, 6}, 3:{0, 6}, 4:{2, 7}, 5:{2, 7}, 6:{2, 3, 7}, 7:{4, 5, 6}} #Not directed"
      ],
      "execution_count": 0,
      "outputs": []
    },
    {
      "metadata": {
        "id": "Rmwv4_D6wysb",
        "colab_type": "code",
        "colab": {}
      },
      "cell_type": "code",
      "source": [
        "def dfs(graph, u, visited = None):\n",
        "    if visited == None:\n",
        "        visited = set()\n",
        "    visited.add(u)\n",
        "    for v in graph[u]:\n",
        "        if v not in visited:\n",
        "            dfs(graph, v, visited)\n",
        "    print(u)"
      ],
      "execution_count": 0,
      "outputs": []
    },
    {
      "metadata": {
        "id": "nd3EIzRR03FV",
        "colab_type": "code",
        "colab": {}
      },
      "cell_type": "code",
      "source": [
        "graph2 = {0:{1, 2, 3}, 1:{}, 2:{4, 5, 6}, 3:{6}, 4:{7}, 5:{7}, 6:{7}, 7:{}} #Directed"
      ],
      "execution_count": 0,
      "outputs": []
    },
    {
      "metadata": {
        "id": "JJHsoKgD1C7P",
        "colab_type": "code",
        "colab": {
          "base_uri": "https://localhost:8080/",
          "height": 153
        },
        "outputId": "ca247f43-2ae0-4ca1-b8ed-68b6154e765e"
      },
      "cell_type": "code",
      "source": [
        "dfs(graph2, 0)"
      ],
      "execution_count": 18,
      "outputs": [
        {
          "output_type": "stream",
          "text": [
            "1\n",
            "7\n",
            "4\n",
            "5\n",
            "6\n",
            "2\n",
            "3\n",
            "0\n"
          ],
          "name": "stdout"
        }
      ]
    },
    {
      "metadata": {
        "id": "hVxV5Hon3dbf",
        "colab_type": "code",
        "colab": {}
      },
      "cell_type": "code",
      "source": [
        "    def bfs(graph, s):\n",
        "        visited = []\n",
        "        n = len(graph)\n",
        "        L = [set() for i in range(n)]\n",
        "        L[0].add(s)\n",
        "        for i in range(n):\n",
        "            for u in L[i]:\n",
        "                for v in graph[u]:\n",
        "                    if v not in visited:\n",
        "                        visited.append(v)\n",
        "                        L[i + 1].add(v)\n",
        "        return L"
      ],
      "execution_count": 0,
      "outputs": []
    },
    {
      "metadata": {
        "id": "ujYhu6Yt62ac",
        "colab_type": "code",
        "colab": {
          "base_uri": "https://localhost:8080/",
          "height": 34
        },
        "outputId": "7204586b-b2bf-480c-97a5-3e91f0360fb8"
      },
      "cell_type": "code",
      "source": [
        "bfs(graph2, 0)"
      ],
      "execution_count": 32,
      "outputs": [
        {
          "output_type": "execute_result",
          "data": {
            "text/plain": [
              "[{0}, {1, 2, 3}, {4, 5, 6}, {7}, set(), set(), set(), set()]"
            ]
          },
          "metadata": {
            "tags": []
          },
          "execution_count": 32
        }
      ]
    },
    {
      "metadata": {
        "id": "gkG1MpEg63Zd",
        "colab_type": "code",
        "colab": {
          "base_uri": "https://localhost:8080/",
          "height": 34
        },
        "outputId": "366eb9b1-d394-4c8f-db9f-5883b96f927e"
      },
      "cell_type": "code",
      "source": [
        "type({})"
      ],
      "execution_count": 24,
      "outputs": [
        {
          "output_type": "execute_result",
          "data": {
            "text/plain": [
              "dict"
            ]
          },
          "metadata": {
            "tags": []
          },
          "execution_count": 24
        }
      ]
    },
    {
      "metadata": {
        "id": "sw9vWfoz68Bs",
        "colab_type": "code",
        "colab": {}
      },
      "cell_type": "code",
      "source": [
        ""
      ],
      "execution_count": 0,
      "outputs": []
    }
  ]
}
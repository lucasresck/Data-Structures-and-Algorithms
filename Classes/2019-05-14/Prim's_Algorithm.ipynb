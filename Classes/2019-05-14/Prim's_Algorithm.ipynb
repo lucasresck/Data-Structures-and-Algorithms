{
  "nbformat": 4,
  "nbformat_minor": 0,
  "metadata": {
    "colab": {
      "name": "Prim's Algorithm.ipynb",
      "version": "0.3.2",
      "provenance": [],
      "include_colab_link": true
    },
    "kernelspec": {
      "name": "python3",
      "display_name": "Python 3"
    }
  },
  "cells": [
    {
      "cell_type": "markdown",
      "metadata": {
        "id": "view-in-github",
        "colab_type": "text"
      },
      "source": [
        "<a href=\"https://colab.research.google.com/github/lucasresck/Data_Structures_and_Algorithms/blob/master/Classes/2019-05-14/Prim's_Algorithm.ipynb\" target=\"_parent\"><img src=\"https://colab.research.google.com/assets/colab-badge.svg\" alt=\"Open In Colab\"/></a>"
      ]
    },
    {
      "cell_type": "code",
      "metadata": {
        "id": "9t2rps1c3o1S",
        "colab_type": "code",
        "colab": {}
      },
      "source": [
        "V = [\"A\", \"B\", \"C\", \"D\", \"E\", \"F\", \"G\", \"H\", \"I\"]"
      ],
      "execution_count": 0,
      "outputs": []
    },
    {
      "cell_type": "code",
      "metadata": {
        "id": "QYplgo7T34S2",
        "colab_type": "code",
        "colab": {}
      },
      "source": [
        "E = [[\"A\", \"B\", 4], [\"A\", \"H\", 8],\n",
        "     [\"B\", \"C\", 8], [\"B\", \"H\", 11],\n",
        "     [\"C\", \"D\", 7], [\"C\", \"F\", 4], [\"C\", \"I\", 2],\n",
        "     [\"D\", \"E\", 9], [\"D\", \"F\", 14],\n",
        "     [\"E\", \"F\", 10],\n",
        "     [\"F\", \"G\", 2],\n",
        "     [\"G\", \"H\", 1], [\"G\", \"I\", 6],\n",
        "     [\"H\", \"I\", 7]]"
      ],
      "execution_count": 0,
      "outputs": []
    },
    {
      "cell_type": "code",
      "metadata": {
        "id": "zlxc1NTa4x2l",
        "colab_type": "code",
        "colab": {}
      },
      "source": [
        "G = [V, E]"
      ],
      "execution_count": 0,
      "outputs": []
    },
    {
      "cell_type": "code",
      "metadata": {
        "id": "R8hzCd154ziU",
        "colab_type": "code",
        "colab": {}
      },
      "source": [
        "import random\n",
        "\n",
        "def lightest_edge(G, visited_vertices):\n",
        "    \n",
        "    E = G[1]\n",
        "    lightest_weight = 10**10\n",
        "    for edge in E:\n",
        "        if (edge[0] not in visited_vertices and edge[1] in visited_vertices) or (edge[1] not in visited_vertices and edge[0] in visited_vertices):\n",
        "            if edge[2] < lightest_weight:\n",
        "                lightest_weight = edge[2]\n",
        "                lightest = edge\n",
        "    if lightest[0] in visited_vertices:\n",
        "        return lightest[0], lightest[1] \n",
        "    return lightest[1], lightest[0]\n",
        "\n",
        "def update_info(G, K, s):\n",
        "    K[s] = 0\n",
        "    E = G[1]\n",
        "    for edge in E:\n",
        "        if s in edge:\n",
        "            if edge[0] != s:\n",
        "                if K[edge[0]] > edge[2]:\n",
        "                    K[edge[0]] = edge[2]\n",
        "            else:\n",
        "                if K[edge[1]] > edge[2]:\n",
        "                    K[edge[1]] = edge[2]\n",
        "\n",
        "def prim(G):\n",
        "    V = G[0]\n",
        "    E = G[1]\n",
        "    s = random.choice(V)\n",
        "    MST = []\n",
        "    K = {}\n",
        "    for v in V:\n",
        "        K.update({v:10**10})\n",
        "    visited_vertices = [s]\n",
        "    update_info(G, K, s)\n",
        "    while len(visited_vertices) < len(V):\n",
        "        [x, v] = lightest_edge(G, visited_vertices)\n",
        "        MST.append([x, v])\n",
        "        visited_vertices.append(v)\n",
        "        update_info(G, K, v)\n",
        "    return MST"
      ],
      "execution_count": 0,
      "outputs": []
    },
    {
      "cell_type": "code",
      "metadata": {
        "id": "vkp7fd6N6dVc",
        "colab_type": "code",
        "outputId": "b43021d8-a42b-4be3-a13c-7b36f2e7af5c",
        "colab": {
          "base_uri": "https://localhost:8080/",
          "height": 153
        }
      },
      "source": [
        "prim(G)"
      ],
      "execution_count": 15,
      "outputs": [
        {
          "output_type": "execute_result",
          "data": {
            "text/plain": [
              "[['G', 'H'],\n",
              " ['G', 'F'],\n",
              " ['F', 'C'],\n",
              " ['C', 'I'],\n",
              " ['C', 'D'],\n",
              " ['H', 'A'],\n",
              " ['A', 'B'],\n",
              " ['D', 'E']]"
            ]
          },
          "metadata": {
            "tags": []
          },
          "execution_count": 15
        }
      ]
    },
    {
      "cell_type": "code",
      "metadata": {
        "id": "PLYwTsjV6hkc",
        "colab_type": "code",
        "colab": {}
      },
      "source": [
        ""
      ],
      "execution_count": 0,
      "outputs": []
    }
  ]
}
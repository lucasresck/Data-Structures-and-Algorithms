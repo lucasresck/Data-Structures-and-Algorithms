{
  "nbformat": 4,
  "nbformat_minor": 0,
  "metadata": {
    "colab": {
      "name": "Couting and bucket sort.ipynb",
      "version": "0.3.2",
      "provenance": [],
      "include_colab_link": true
    },
    "kernelspec": {
      "name": "python3",
      "display_name": "Python 3"
    }
  },
  "cells": [
    {
      "cell_type": "markdown",
      "metadata": {
        "id": "view-in-github",
        "colab_type": "text"
      },
      "source": [
        "<a href=\"https://colab.research.google.com/github/lucasresck/Data_Structures_and_Algorithms/blob/master/Classes/2019-03-12/Couting_and_bucket_sort.ipynb\" target=\"_parent\"><img src=\"https://colab.research.google.com/assets/colab-badge.svg\" alt=\"Open In Colab\"/></a>"
      ]
    },
    {
      "metadata": {
        "id": "giZKpCsUZn60",
        "colab_type": "code",
        "colab": {}
      },
      "cell_type": "code",
      "source": [
        "import numpy as np\n",
        "import time"
      ],
      "execution_count": 0,
      "outputs": []
    },
    {
      "metadata": {
        "id": "82VXZbCmXA_6",
        "colab_type": "code",
        "colab": {}
      },
      "cell_type": "code",
      "source": [
        "def couting_sort(A, k):\n",
        "    counts = [0] * k\n",
        "    for a_i in A:\n",
        "        counts[a_i] += 1\n",
        "    result = []\n",
        "    for a_i in range(len(counts)):\n",
        "        result.extend([a_i] * counts[a_i])\n",
        "    return result"
      ],
      "execution_count": 0,
      "outputs": []
    },
    {
      "metadata": {
        "id": "5Z4EN5i_XhUx",
        "colab_type": "code",
        "colab": {
          "base_uri": "https://localhost:8080/",
          "height": 34
        },
        "outputId": "76476380-d96c-4289-a45f-30736748fa4c"
      },
      "cell_type": "code",
      "source": [
        "couting_sort([1, 2, 3, 1, 2, 3, 1], 10)"
      ],
      "execution_count": 32,
      "outputs": [
        {
          "output_type": "execute_result",
          "data": {
            "text/plain": [
              "[1, 1, 1, 2, 2, 3, 3]"
            ]
          },
          "metadata": {
            "tags": []
          },
          "execution_count": 32
        }
      ]
    },
    {
      "metadata": {
        "id": "x6vHw8ZbZmpt",
        "colab_type": "code",
        "colab": {}
      },
      "cell_type": "code",
      "source": [
        "A = np.random.randint(1, high = 10000, size = 10000)"
      ],
      "execution_count": 0,
      "outputs": []
    },
    {
      "metadata": {
        "id": "V7JTI5w2Z4zV",
        "colab_type": "code",
        "colab": {
          "base_uri": "https://localhost:8080/",
          "height": 34
        },
        "outputId": "64392c4b-a316-4acf-b8fc-a03fd5f95eee"
      },
      "cell_type": "code",
      "source": [
        "start = time.time()\n",
        "couting_sort(A, 10000)\n",
        "print(time.time() - start)"
      ],
      "execution_count": 39,
      "outputs": [
        {
          "output_type": "stream",
          "text": [
            "0.015299081802368164\n"
          ],
          "name": "stdout"
        }
      ]
    },
    {
      "metadata": {
        "id": "uL-vJfdziYl6",
        "colab_type": "code",
        "colab": {}
      },
      "cell_type": "code",
      "source": [
        "def bucket_sort(A, k, num_buckets):\n",
        "    buckets = [[]] * num_buckets\n",
        "    for key, value in A:\n",
        "        buckets[get_bucket(key, k, num_buckets)].append((key, value))\n",
        "    if num_buckets < k:\n",
        "        for bucket in buckets:\n",
        "            sorted(bucket, key = bucket[0])\n",
        "    result = [buckets[i][2] for i in range(len(buckets))]\n",
        "    return result\n",
        "\n",
        "def get_bucket(key, k, num_buckets):\n",
        "    t = np.ceil(k / num_buckets)\n",
        "    return int(np.ceil(key / t)) - 1"
      ],
      "execution_count": 0,
      "outputs": []
    },
    {
      "metadata": {
        "id": "SAVVUvvJly4g",
        "colab_type": "code",
        "colab": {
          "base_uri": "https://localhost:8080/",
          "height": 34
        },
        "outputId": "4f4e89f8-4957-467e-b693-6b44953ca7ca"
      },
      "cell_type": "code",
      "source": [
        "C = list(range(1, 11))\n",
        "np.random.shuffle(C)\n",
        "C"
      ],
      "execution_count": 122,
      "outputs": [
        {
          "output_type": "execute_result",
          "data": {
            "text/plain": [
              "[10, 1, 4, 2, 3, 5, 6, 8, 7, 9]"
            ]
          },
          "metadata": {
            "tags": []
          },
          "execution_count": 122
        }
      ]
    },
    {
      "metadata": {
        "id": "Ux4orRvRkwC_",
        "colab_type": "code",
        "colab": {}
      },
      "cell_type": "code",
      "source": [
        "B = list(zip(C, np.random.randint(1, high = 10, size = 10)))"
      ],
      "execution_count": 0,
      "outputs": []
    },
    {
      "metadata": {
        "id": "RaSGs4mDlBd0",
        "colab_type": "code",
        "colab": {
          "base_uri": "https://localhost:8080/",
          "height": 187
        },
        "outputId": "c788ddd3-ef80-40e4-e7c5-f73b4a18ac9c"
      },
      "cell_type": "code",
      "source": [
        "B"
      ],
      "execution_count": 124,
      "outputs": [
        {
          "output_type": "execute_result",
          "data": {
            "text/plain": [
              "[(10, 6),\n",
              " (1, 9),\n",
              " (4, 7),\n",
              " (2, 5),\n",
              " (3, 7),\n",
              " (5, 2),\n",
              " (6, 3),\n",
              " (8, 6),\n",
              " (7, 9),\n",
              " (9, 8)]"
            ]
          },
          "metadata": {
            "tags": []
          },
          "execution_count": 124
        }
      ]
    },
    {
      "metadata": {
        "id": "cx1TfZDzlCD0",
        "colab_type": "code",
        "colab": {
          "base_uri": "https://localhost:8080/",
          "height": 187
        },
        "outputId": "dbb9aebb-9612-433d-d74b-1aa903eb3b26"
      },
      "cell_type": "code",
      "source": [
        "bucket_sort(B, 10, 10)"
      ],
      "execution_count": 125,
      "outputs": [
        {
          "output_type": "execute_result",
          "data": {
            "text/plain": [
              "[(4, 7),\n",
              " (4, 7),\n",
              " (4, 7),\n",
              " (4, 7),\n",
              " (4, 7),\n",
              " (4, 7),\n",
              " (4, 7),\n",
              " (4, 7),\n",
              " (4, 7),\n",
              " (4, 7)]"
            ]
          },
          "metadata": {
            "tags": []
          },
          "execution_count": 125
        }
      ]
    },
    {
      "metadata": {
        "id": "d9HCAU6lmCaY",
        "colab_type": "code",
        "colab": {}
      },
      "cell_type": "code",
      "source": [
        ""
      ],
      "execution_count": 0,
      "outputs": []
    }
  ]
}
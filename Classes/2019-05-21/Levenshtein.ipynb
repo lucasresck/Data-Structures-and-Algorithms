{
  "nbformat": 4,
  "nbformat_minor": 0,
  "metadata": {
    "colab": {
      "name": "Levenshtein.ipynb",
      "version": "0.3.2",
      "provenance": [],
      "include_colab_link": true
    },
    "kernelspec": {
      "name": "python3",
      "display_name": "Python 3"
    }
  },
  "cells": [
    {
      "cell_type": "markdown",
      "metadata": {
        "id": "view-in-github",
        "colab_type": "text"
      },
      "source": [
        "<a href=\"https://colab.research.google.com/github/lucasresck/Data_Structures_and_Algorithms/blob/master/Classes/2019-05-21/Levenshtein.ipynb\" target=\"_parent\"><img src=\"https://colab.research.google.com/assets/colab-badge.svg\" alt=\"Open In Colab\"/></a>"
      ]
    },
    {
      "cell_type": "code",
      "metadata": {
        "id": "70WV7aq02g3w",
        "colab_type": "code",
        "colab": {}
      },
      "source": [
        "def Levenshtein(word1, word2):\n",
        "    word1 = \"#\" + word1\n",
        "    word2 = \"#\" + word2\n",
        "    m = len(word1)\n",
        "    n = len(word2)\n",
        "    D = [[0] * n for i in range(m)]\n",
        "    ptr = [[0] * n for i in range(m)]\n",
        "    for i in range(m):\n",
        "        D[i][0] = i\n",
        "    for j in range(n):\n",
        "        D[0][j] = j\n",
        "    for i in range(1, m):\n",
        "        for j in range(1, n):\n",
        "            if word1[i] != word2[j]:\n",
        "                x = 1\n",
        "            else:\n",
        "                x = 0\n",
        "            D[i][j] = min(D[i - 1][j] + 1, D[i][j - 1] + 1, D[i - 1][j - 1] + x)\n",
        "            if D[i][j] == D[i - 1][j] + 1:\n",
        "                ptr[i][j] = \"up\"\n",
        "            elif D[i][j] == D[i][j - 1] + 1:\n",
        "                ptr[i][j] = \"left\"\n",
        "            elif D[i][j] == D[i - 1][j - 1]  + x:\n",
        "                ptr[i][j] = \"diag\" + str(x)\n",
        "    i = m - 1\n",
        "    j = n - 1\n",
        "    mod = []\n",
        "    while i > 0 or j > 0:\n",
        "        if ptr[i][j] == \"up\":\n",
        "            i -= 1\n",
        "            mod.append(\"D\")\n",
        "        elif ptr[i][j] == \"left\":\n",
        "            mod.append(\"I\")\n",
        "            j -= 1\n",
        "        elif ptr[i][j] == \"diag0\":\n",
        "            mod.append(\"N\")\n",
        "            j -= 1\n",
        "            i -= 1\n",
        "        else:\n",
        "            mod.append(\"S\")\n",
        "            j -= 1\n",
        "            i -= 1\n",
        "    mod.reverse()\n",
        "    return D[m - 1][n - 1], mod"
      ],
      "execution_count": 0,
      "outputs": []
    },
    {
      "cell_type": "code",
      "metadata": {
        "id": "btfLXU2hCWRx",
        "colab_type": "code",
        "outputId": "e824289b-aa1a-4c8b-a7b6-d3a31f09eb2b",
        "colab": {
          "base_uri": "https://localhost:8080/",
          "height": 34
        }
      },
      "source": [
        "Levenshtein(\"graffe\", \"giraffe\")"
      ],
      "execution_count": 104,
      "outputs": [
        {
          "output_type": "execute_result",
          "data": {
            "text/plain": [
              "(1, ['N', 'I', 'N', 'N', 'N', 'N', 'N'])"
            ]
          },
          "metadata": {
            "tags": []
          },
          "execution_count": 104
        }
      ]
    },
    {
      "cell_type": "code",
      "metadata": {
        "id": "XNa5mL0NHuOu",
        "colab_type": "code",
        "colab": {}
      },
      "source": [
        ""
      ],
      "execution_count": 0,
      "outputs": []
    }
  ]
}
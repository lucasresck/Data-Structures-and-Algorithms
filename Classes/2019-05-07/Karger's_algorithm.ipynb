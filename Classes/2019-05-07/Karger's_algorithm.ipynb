{
  "nbformat": 4,
  "nbformat_minor": 0,
  "metadata": {
    "colab": {
      "name": "Karger's algorithm.ipynb",
      "version": "0.3.2",
      "provenance": [],
      "include_colab_link": true
    },
    "kernelspec": {
      "name": "python3",
      "display_name": "Python 3"
    }
  },
  "cells": [
    {
      "cell_type": "markdown",
      "metadata": {
        "id": "view-in-github",
        "colab_type": "text"
      },
      "source": [
        "<a href=\"https://colab.research.google.com/github/lucasresck/Data_Structures_and_Algorithms/blob/master/Classes/2019-05-07/Karger's_algorithm.ipynb\" target=\"_parent\"><img src=\"https://colab.research.google.com/assets/colab-badge.svg\" alt=\"Open In Colab\"/></a>"
      ]
    },
    {
      "cell_type": "code",
      "metadata": {
        "id": "5Way2qNC1tSu",
        "colab_type": "code",
        "colab": {}
      },
      "source": [
        "G = {\"A\":{\"B\", \"G\", \"F\"},\n",
        "     \"B\": {\"A\", \"F\", \"G\", \"E\"},\n",
        "     \"C\": {\"D\", \"E\", \"H\", \"I\"},\n",
        "     \"D\": {\"C\", \"H\", \"I\"},\n",
        "     \"E\": {\"B\", \"C\", \"G\", \"H\", \"I\"},\n",
        "     \"F\": {\"A\", \"B\", \"G\"},\n",
        "     \"G\": {\"A\", \"B\", \"E\", \"F\"},\n",
        "     \"H\":{\"E\", \"C\", \"D\", \"I\"},\n",
        "     \"I\":{\"C\", \"D\", \"E\", \"H\"}}\n",
        "V = [v for v in G]\n",
        "A = [[u, v] if u < v else [v, u] for u in G for v in G[u]]\n",
        "E = []\n",
        "for a in A:\n",
        "    if a not in E:\n",
        "        E.append(a)"
      ],
      "execution_count": 0,
      "outputs": []
    },
    {
      "cell_type": "code",
      "metadata": {
        "id": "sRL3wqsl2u7Y",
        "colab_type": "code",
        "colab": {}
      },
      "source": [
        "import random\n",
        "\n",
        "def karger(V, E):\n",
        "    V2 = V.copy()\n",
        "    E2 = []\n",
        "    for e in E:\n",
        "        E2.append(e.copy())\n",
        "    while len(V2) > 2:\n",
        "        edge = random.choice(E2).copy()\n",
        "        E2.remove(edge)\n",
        "        V2.remove(edge[0])\n",
        "        V2.remove(edge[1])\n",
        "        V2.append(edge[0] + edge[1])\n",
        "        for e in E2:\n",
        "            if edge[0] in e:\n",
        "                e.remove(edge[0])\n",
        "                e.append(edge[0] + edge[1])\n",
        "            elif edge[1] in e:\n",
        "                e.remove(edge[1])\n",
        "                e.append(edge[0] + edge[1])\n",
        "        E3 = []\n",
        "        for e in E2:\n",
        "            if e not in E3:\n",
        "                E3.append(e)\n",
        "        E2 = E3\n",
        "    return E2, V2"
      ],
      "execution_count": 0,
      "outputs": []
    },
    {
      "cell_type": "code",
      "metadata": {
        "id": "jqlI4Tpdkk2i",
        "colab_type": "code",
        "outputId": "156429f1-0dc0-4260-89a9-575b639c8ced",
        "colab": {
          "base_uri": "https://localhost:8080/",
          "height": 34
        }
      },
      "source": [
        "karger(V, E)"
      ],
      "execution_count": 6,
      "outputs": [
        {
          "output_type": "execute_result",
          "data": {
            "text/plain": [
              "([['AB', 'FGEHCDI']], ['AB', 'FGEHCDI'])"
            ]
          },
          "metadata": {
            "tags": []
          },
          "execution_count": 6
        }
      ]
    },
    {
      "cell_type": "code",
      "metadata": {
        "id": "IXwhN-FMRdQg",
        "colab_type": "code",
        "colab": {}
      },
      "source": [
        ""
      ],
      "execution_count": 0,
      "outputs": []
    }
  ]
}
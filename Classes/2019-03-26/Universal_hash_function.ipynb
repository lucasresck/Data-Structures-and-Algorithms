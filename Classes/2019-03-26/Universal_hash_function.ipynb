{
  "nbformat": 4,
  "nbformat_minor": 0,
  "metadata": {
    "colab": {
      "name": "Hash function.ipynb",
      "version": "0.3.2",
      "provenance": [],
      "include_colab_link": true
    },
    "kernelspec": {
      "name": "python3",
      "display_name": "Python 3"
    }
  },
  "cells": [
    {
      "cell_type": "markdown",
      "metadata": {
        "id": "view-in-github",
        "colab_type": "text"
      },
      "source": [
        "<a href=\"https://colab.research.google.com/github/lucasresck/Data_Structures_and_Algorithms/blob/master/Classes/2019-03-26/Universal_hash_function.ipynb\" target=\"_parent\"><img src=\"https://colab.research.google.com/assets/colab-badge.svg\" alt=\"Open In Colab\"/></a>"
      ]
    },
    {
      "metadata": {
        "id": "K0lJJMPSs21l",
        "colab_type": "code",
        "colab": {
          "base_uri": "https://localhost:8080/",
          "height": 119
        },
        "outputId": "c2f92783-1e91-4c30-f009-a22f760f972c"
      },
      "cell_type": "code",
      "source": [
        "from sympy import nextprime\n",
        "#nextprime(5) -> 7\n",
        "from random import randint\n",
        "import numpy as np\n",
        "\n",
        "class UniversalHashing():\n",
        "    def __init__(self, n):\n",
        "        self.n = n\n",
        "        self.p = nextprime(1 << 32)\n",
        "        \n",
        "    def getHash(self):\n",
        "        a = randint(1, self.p - 1)\n",
        "        b = randint(0, self.p - 1)\n",
        "        return lambda x: ((a*x + b) % self.p) % self.n\n",
        "   \n",
        "n = 50 #number of buckets\n",
        "H = UniversalHashing(n)\n",
        "h = H.getHash()\n",
        "\n",
        "N = 100000 #number of elements\n",
        "X = np.random.randint(0, N*10, size = N)\n",
        "buckets = np.zeros(n)\n",
        "for x in X:\n",
        "    buckets[h(x)] += 1\n",
        "    \n",
        "print(buckets/N)"
      ],
      "execution_count": 36,
      "outputs": [
        {
          "output_type": "stream",
          "text": [
            "[0.01982 0.01979 0.01953 0.02026 0.01972 0.01969 0.01963 0.01998 0.02011\n",
            " 0.0204  0.02018 0.02013 0.01964 0.02016 0.01973 0.01997 0.01947 0.02061\n",
            " 0.0205  0.02005 0.0202  0.02048 0.02024 0.0203  0.01978 0.02013 0.02004\n",
            " 0.02019 0.01916 0.01998 0.02018 0.01962 0.02008 0.02057 0.02028 0.01984\n",
            " 0.01975 0.02077 0.02011 0.01998 0.01974 0.01963 0.02023 0.01984 0.0205\n",
            " 0.01899 0.02036 0.02005 0.01989 0.01972]\n"
          ],
          "name": "stdout"
        }
      ]
    }
  ]
}